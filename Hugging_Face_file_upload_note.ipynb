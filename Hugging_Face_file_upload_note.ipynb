{
  "cells": [
    {
      "cell_type": "markdown",
      "metadata": {
        "id": "view-in-github",
        "colab_type": "text"
      },
      "source": [
        "<a href=\"https://colab.research.google.com/github/chiro390/Notebook-List/blob/main/Hugging_Face_file_upload_note.ipynb\" target=\"_parent\"><img src=\"https://colab.research.google.com/assets/colab-badge.svg\" alt=\"Open In Colab\"/></a>"
      ]
    },
    {
      "cell_type": "markdown",
      "source": [
        "### Google Drive Mount"
      ],
      "metadata": {
        "id": "UZgTp6Ewt4cU"
      }
    },
    {
      "cell_type": "code",
      "source": [
        "from google.colab import drive\n",
        "drive.mount('/content/drive')"
      ],
      "metadata": {
        "id": "FhosPDE-Zs1R"
      },
      "execution_count": null,
      "outputs": []
    },
    {
      "cell_type": "markdown",
      "source": [
        "### Hugging Face Login"
      ],
      "metadata": {
        "id": "6dRBWQeXuSwD"
      }
    },
    {
      "cell_type": "code",
      "source": [
        "!pip install --upgrade huggingface_hub\n",
        "from huggingface_hub import login, HfApi\n",
        "login()"
      ],
      "metadata": {
        "id": "h3bMdQpyZg7f"
      },
      "execution_count": null,
      "outputs": []
    },
    {
      "cell_type": "markdown",
      "source": [
        "### File Upload"
      ],
      "metadata": {
        "id": "7nurHhnUvMtI"
      }
    },
    {
      "cell_type": "code",
      "source": [
        "filepath = \"\" #@param {type:\"string\"}\n",
        "path_in_repo = \"\" #@param {type:\"string\"}\n",
        "repo_id = \"\" #@param {type:\"string\"}\n",
        "repo_type = \"\" #@param {type:\"string\"}\n",
        "\n",
        "import os\n",
        "if os.path.exists(filepath):\n",
        "  api = HfApi()\n",
        "  api.upload_file(path_or_fileobj=filepath,\n",
        "    path_in_repo=path_in_repo,\n",
        "    repo_id=repo_id,\n",
        "    repo_type=repo_type,\n",
        "  )"
      ],
      "metadata": {
        "id": "YF06JYYcgcFA",
        "cellView": "form"
      },
      "execution_count": null,
      "outputs": []
    },
    {
      "cell_type": "markdown",
      "source": [
        "### Folder Upload"
      ],
      "metadata": {
        "id": "-LwwJ9lZvZ43"
      }
    },
    {
      "cell_type": "code",
      "source": [
        "folderpath = \"\" #@param {type:\"string\"}\n",
        "#path_in_repo = \"models\" #@param {type:\"string\"}\n",
        "repo_id = \"\" #@param {type:\"string\"}\n",
        "repo_type = \"\" #@param {type:\"string\"}\n",
        "\n",
        "import os\n",
        "if os.path.exists(folderpath):\n",
        "  api = HfApi()\n",
        "  api.upload_folder(folder_path=folderpath,\n",
        "    repo_id=repo_id,\n",
        "    repo_type=repo_type,\n",
        "  )"
      ],
      "metadata": {
        "id": "TJ-f1VMhZnen",
        "cellView": "form"
      },
      "execution_count": null,
      "outputs": []
    }
  ],
  "metadata": {
    "colab": {
      "provenance": [],
      "include_colab_link": true
    },
    "language_info": {
      "name": "python"
    },
    "kernelspec": {
      "name": "python3",
      "display_name": "Python 3"
    },
    "gpuClass": "standard"
  },
  "nbformat": 4,
  "nbformat_minor": 0
}